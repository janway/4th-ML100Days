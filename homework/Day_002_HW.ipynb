{
 "cells": [
  {
   "cell_type": "markdown",
   "metadata": {},
   "source": [
    "## [作業目標]\n",
    "了解機器學習適合應用的領域與範疇。"
   ]
  },
  {
   "cell_type": "markdown",
   "metadata": {},
   "source": [
    "## [作業重點]\n",
    "透過瞭解機器學習的運作方式，找出非常適用機器學習應用的領域及其原因"
   ]
  },
  {
   "cell_type": "markdown",
   "metadata": {},
   "source": [
    "## 作業\n",
    "請找出一個你認為機器學習可以發光發熱的領域並闡述原因? \n",
    "\n",
    "機器學習目前應用在醫學領域方面，可說是相當的成功，特別是影像的辨識與診斷。就以台灣為例，國人每年平均看診次數約為15次，所累積的處方簽高達3億6千萬張；每年約有200萬人次使用電腦斷層與核磁共振等影像檢查，以肺部電腦斷層掃瞄為例，每進行一次電腦斷層掃瞄便可產生500張影像，一位有經驗的醫師進行初步篩選至少就要花20分鐘。醫療技術的進步，讓診斷更為細緻，疾病的分類則變得更為複雜。傳統影像辨識，靠的是醫師肉眼的判斷與經驗，一旦醫療數據增多、辨識時間拉長，長時間的工作帶來的疲乏，加上疾病的高複雜度，使醫師犯錯的機率提高，若能將這些高重覆性的工作交由機器自動判讀，在第一時間幫助醫療人員作初步的篩檢，將使醫療品質大為提高。\n"
   ]
  },
  {
   "cell_type": "code",
   "execution_count": null,
   "metadata": {},
   "outputs": [],
   "source": [
    "   "
   ]
  }
 ],
 "metadata": {
  "kernelspec": {
   "display_name": "Python 3",
   "language": "python",
   "name": "python3"
  },
  "language_info": {
   "codemirror_mode": {
    "name": "ipython",
    "version": 3
   },
   "file_extension": ".py",
   "mimetype": "text/x-python",
   "name": "python",
   "nbconvert_exporter": "python",
   "pygments_lexer": "ipython3",
   "version": "3.7.4"
  }
 },
 "nbformat": 4,
 "nbformat_minor": 2
}
